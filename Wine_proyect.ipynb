{
  "nbformat": 4,
  "nbformat_minor": 0,
  "metadata": {
    "colab": {
      "provenance": []
    },
    "kernelspec": {
      "name": "python3",
      "display_name": "Python 3"
    },
    "language_info": {
      "name": "python"
    }
  },
  "cells": [
    {
      "cell_type": "markdown",
      "source": [
        "# **Análisis General de la Calidad de Vinos**"
      ],
      "metadata": {
        "id": "slAxqJiw08uR"
      }
    },
    {
      "cell_type": "markdown",
      "source": [
        "## **Proyecto 3**\n",
        "## Aprendizaje automático de maquina\n",
        "**Natalia Martinez Neira & Juan José Caballero**"
      ],
      "metadata": {
        "id": "nVP6P9PyfaZ8"
      }
    },
    {
      "cell_type": "markdown",
      "source": [
        "\n",
        "\n",
        "---\n",
        "\n"
      ],
      "metadata": {
        "id": "FQ4IAGAkUoEU"
      }
    },
    {
      "cell_type": "markdown",
      "source": [
        "## **Índice**\n",
        "\n",
        "1. [Introducción](#intro)\n",
        "    * [Antecedentes](#antecedentes)\n",
        "    * [Problema](#problema)\n",
        "    * [Solución](#solucion)\n",
        "2. [Data Set](#data)\n",
        "3. [Implementación](#implementacion)\n",
        "4. [Resultados](#resultados)\n",
        "5. [Referencias](#ref)"
      ],
      "metadata": {
        "id": "Y64YLw-KYQvZ"
      }
    },
    {
      "cell_type": "markdown",
      "source": [
        "<a name=\"intro\"></a>\n",
        "## **Introducción**\n"
      ],
      "metadata": {
        "id": "9rRKht84fsII"
      }
    },
    {
      "cell_type": "markdown",
      "source": [
        "<a name=\"antecedentes\"></a>\n",
        "### **Antecedentes**\n",
        "El sector del vino representa más de $200,000 US al año y a pesar del alza en los precios de este, en Colombia sigue siendo uno de los productos más consumidos. Tiene una trayectoria histórica está presente en muchas de nuestras celebraciones. Consideramos que todos hemos escuchado por lo menos una vez hablar a nuestros padres sobre el sabor del vino, que uno es de mejor sabor que otro o prefieren ciertas texturas sobre otras.\n",
        "\n",
        "La industria del vino sufrió una baja considerable en tiempos de pandemia y con base en una noticia del 2022 de la revista \"La República\", \"sector del vino ha tenido un aumento en su extracción, consumo, venta y distribución alrededor del mundo, alcanzado 20% de crecimiento frente a la prepandemia.\".\n",
        "\n",
        "Esto nos ha llevado a preguntarnos, ¿Qué hace del vino una bebida tan especial? Buscaremos que características hacen que los expertos clasifiquen algo como un 'buen vino' y cómo se puede utilizar esta información para recuperar el crecimiento de la industria postpandemia. Y al nivel de nuestro nicho, el cómo encontrar un buen vino para disfrutar.\n"
      ],
      "metadata": {
        "id": "VUU6XQm_1bPj"
      }
    },
    {
      "cell_type": "markdown",
      "source": [
        "<a name=\"problema\"></a>\n",
        "### **Problema**\n",
        "\n",
        "Se busca comparar distintos modelos y algoritmos de entrenamiento supervisado para predecir la calificación que obtendría un vino con base en sus características. Lo anterior buscando encontrar el mejor modelo para predecir. Se realizará fundamentado en una base de datos con registros de vinos tintos y blancos calificación por expertos del 1 - 10, siendo 1 la peor calificación y 10 la mejor.\n",
        "\n",
        "A partir de esto, se buscará encontrar qué características pueden obtener una calificación de 10.\n"
      ],
      "metadata": {
        "id": "XUWUIwPC1gGi"
      }
    },
    {
      "cell_type": "markdown",
      "source": [
        "<a name=\"solucion\"></a>\n",
        "### **Solución**\n",
        "\n",
        "Para darle solución al problema planteado, se compararán las bases de datos de calidad de vino tinto y blanco sobre los algoritmos de: ` regresión lineal, regresión de Ridge, regresión de Lasso, arboles de regresión, modelo SVM y KNN`.\n",
        "\n",
        "Se trabajará con la base de tados de Vino tinto y Vino blanco, de las cuiales se harán predicciones con todos los modelos enunciados anteriormente y se evaluará el desempeño, buscando encontrar el mejor modelo.\n",
        "\n",
        "Finalmente, se buscará predecir un vino de calidad 10 usando el modelo que de mejores resultados."
      ],
      "metadata": {
        "id": "mfeDP8aO8xZX"
      }
    },
    {
      "cell_type": "markdown",
      "source": [
        "### **Índice de modelos**\n",
        "\n",
        "*   [Regresión lineal](#lineal)\n",
        "*   [Regresión de Ridge](#ridge)\n",
        "*   [Regresión de Lasso](#lasso)\n",
        "*   [Árboles de regresión](#arbol)\n",
        "*   [Modelo SVM](#svm)\n",
        "*   [KNN](#knn)"
      ],
      "metadata": {
        "id": "4EfCM48aJ2hB"
      }
    },
    {
      "cell_type": "markdown",
      "source": [
        "\n",
        "\n",
        "---\n",
        "\n"
      ],
      "metadata": {
        "id": "pj9m0zw5J7Ka"
      }
    },
    {
      "cell_type": "markdown",
      "source": [
        "<a name=\"data\"></a>\n",
        "### **Dataset**\n",
        "\n",
        "El Wine Quality Data Set se recopiló con el objetivo de evaluar la calidad del vino en base a diversas características. El conjunto de datos contiene información sobre vinos tintos y blancos, y está compuesto por datos numéricos. Se encuentra disponible en el repositorio de Machine Learning de la UCI (University of California, Irvine) en el siguiente vínculo: [Wine quality Data Set](https://archive.ics.uci.edu/ml/datasets/Wine+Quality)\n",
        "\n",
        "Es importante tener en cuenta que el dataset contiene dos archivos separados: uno para vinos tintos y otro para vinos blancos. Cada archivo tiene información específica sobre las características y la calidad correspondientes al tipo de vino respectivo. Los archivos pueden ser descargados directamente de la página.\n",
        "\n",
        "\n",
        "El dataset contiene los siguientes atributos:\n",
        "\n",
        "* **Fixed acidity** (acidez fija): Representa la cantidad de ácido tartárico en el vino.\n",
        "\n",
        "* **Volatile acidity** (acidez volátil): Indica la cantidad de ácido acético en el vino, que en niveles altos puede llevar a un sabor desagradable.\n",
        "\n",
        "* **Citric acid** (ácido cítrico): Mide la cantidad de ácido cítrico presente en el vino, que le brinda frescura y sabor.\n",
        "\n",
        "* **Residual sugar** (azúcar residual): Es la cantidad de azúcar que queda después de que el vino haya fermentado.\n",
        "\n",
        "* **Chlorides** (cloruros): Representa la cantidad de sal presente en el vino.\n",
        "\n",
        "* **Free sulfur dioxide** (dióxido de azufre libre): Mide la cantidad de dióxido de azufre que se encuentra en forma libre en el vino y que actúa como conservante.\n",
        "\n",
        "* **Total sulfur dioxide** (dióxido de azufre total): Indica tanto el dióxido de azufre libre como el dióxido de azufre combinado con otros compuestos químicos en el vino.\n",
        "\n",
        "* **Density** (densidad): Representa la densidad del vino en relación con el agua.\n",
        "\n",
        "* **pH**: Indica el nivel de acidez o alcalinidad del vino.\n",
        "\n",
        "* **Sulphates** (sulfatos): Mide la cantidad de sulfatos presentes en el vino, que pueden contribuir a su sabor y preservación.\n",
        "\n",
        "* **Alcohol**: Representa el porcentaje de alcohol contenido en el vino.\n",
        "\n",
        "* **Quality** (calidad): Es la calidad del vino, representada como una variable numérica discreta. Las puntuaciones varían en el rango de 0 a 10, donde un valor más alto indica una mayor calidad.\n",
        "\n",
        "Quality es nuestra variable objetivo del estudio que, como mencionamos anteriormente, es un valor numérico de 1 a 10\n"
      ],
      "metadata": {
        "id": "g1SyIQbhNrdv"
      }
    },
    {
      "cell_type": "markdown",
      "source": [
        "\n",
        "\n",
        "---\n",
        "\n"
      ],
      "metadata": {
        "id": "Fcsb4jV1YCAv"
      }
    },
    {
      "cell_type": "markdown",
      "source": [
        "<a name=\"implementacion\"></a>\n",
        "### **Implementación**\n",
        "\n",
        "A continuación se realiza la implementación de código para obtener todos los resultados"
      ],
      "metadata": {
        "id": "-_t0HJMLYHDn"
      }
    },
    {
      "cell_type": "code",
      "execution_count": null,
      "metadata": {
        "id": "4eb8G00UfWFh"
      },
      "outputs": [],
      "source": [
        "# Importamos las librerias correspondientes.\n",
        "\n",
        "import pandas as pd\n",
        "import numpy as np\n",
        "import random\n",
        "import matplotlib.pyplot as plt\n",
        "import matplotlib.colors as colors\n",
        "\n",
        "from sklearn.preprocessing import scale\n",
        "from sklearn.model_selection import train_test_split\n",
        "from sklearn.linear_model import Ridge, RidgeCV, Lasso, LassoCV\n",
        "from sklearn.linear_model import LinearRegression\n",
        "from sklearn import metrics\n",
        "from sklearn.metrics import mean_squared_error\n",
        "from sklearn.metrics import confusion_matrix\n",
        "from sklearn.metrics import ConfusionMatrixDisplay\n",
        "from sklearn.model_selection import cross_val_score\n",
        "from sklearn.tree import DecisionTreeClassifier, plot_tree, DecisionTreeRegressor\n",
        "from sklearn.neighbors import KNeighborsClassifier\n",
        "from sklearn.neighbors import KNeighborsRegressor\n",
        "from sklearn import preprocessing\n",
        "from sklearn.svm import SVC\n",
        "from sklearn.model_selection import GridSearchCV\n",
        "from sklearn.decomposition import PCA\n",
        "from sklearn.neighbors import KNeighborsClassifier\n",
        "from sklearn.model_selection import train_test_split\n",
        "from sklearn.metrics import accuracy_score"
      ]
    },
    {
      "cell_type": "markdown",
      "source": [
        "### Preparación de los datos\n",
        "\n",
        "Importamos nuestras dos bases de datos para trabajar."
      ],
      "metadata": {
        "id": "hQUg4NZVbdld"
      }
    },
    {
      "cell_type": "code",
      "source": [
        "df_red = pd.read_csv('winequality-red.csv', delimiter = \";\").dropna()\n",
        "df_red.head()"
      ],
      "metadata": {
        "colab": {
          "base_uri": "https://localhost:8080/",
          "height": 206
        },
        "id": "e9Yaw6Yvzchv",
        "outputId": "7ddd68e6-c52d-4d55-8082-55cc77e374a8"
      },
      "execution_count": null,
      "outputs": [
        {
          "output_type": "execute_result",
          "data": {
            "text/plain": [
              "   fixed acidity  volatile acidity  citric acid  residual sugar  chlorides  \\\n",
              "0            7.4              0.70         0.00             1.9      0.076   \n",
              "1            7.8              0.88         0.00             2.6      0.098   \n",
              "2            7.8              0.76         0.04             2.3      0.092   \n",
              "3           11.2              0.28         0.56             1.9      0.075   \n",
              "4            7.4              0.70         0.00             1.9      0.076   \n",
              "\n",
              "   free sulfur dioxide  total sulfur dioxide  density    pH  sulphates  \\\n",
              "0                 11.0                  34.0   0.9978  3.51       0.56   \n",
              "1                 25.0                  67.0   0.9968  3.20       0.68   \n",
              "2                 15.0                  54.0   0.9970  3.26       0.65   \n",
              "3                 17.0                  60.0   0.9980  3.16       0.58   \n",
              "4                 11.0                  34.0   0.9978  3.51       0.56   \n",
              "\n",
              "   alcohol  quality  \n",
              "0      9.4        5  \n",
              "1      9.8        5  \n",
              "2      9.8        5  \n",
              "3      9.8        6  \n",
              "4      9.4        5  "
            ],
            "text/html": [
              "\n",
              "  <div id=\"df-9915431a-5407-43d8-b41f-34df47666293\">\n",
              "    <div class=\"colab-df-container\">\n",
              "      <div>\n",
              "<style scoped>\n",
              "    .dataframe tbody tr th:only-of-type {\n",
              "        vertical-align: middle;\n",
              "    }\n",
              "\n",
              "    .dataframe tbody tr th {\n",
              "        vertical-align: top;\n",
              "    }\n",
              "\n",
              "    .dataframe thead th {\n",
              "        text-align: right;\n",
              "    }\n",
              "</style>\n",
              "<table border=\"1\" class=\"dataframe\">\n",
              "  <thead>\n",
              "    <tr style=\"text-align: right;\">\n",
              "      <th></th>\n",
              "      <th>fixed acidity</th>\n",
              "      <th>volatile acidity</th>\n",
              "      <th>citric acid</th>\n",
              "      <th>residual sugar</th>\n",
              "      <th>chlorides</th>\n",
              "      <th>free sulfur dioxide</th>\n",
              "      <th>total sulfur dioxide</th>\n",
              "      <th>density</th>\n",
              "      <th>pH</th>\n",
              "      <th>sulphates</th>\n",
              "      <th>alcohol</th>\n",
              "      <th>quality</th>\n",
              "    </tr>\n",
              "  </thead>\n",
              "  <tbody>\n",
              "    <tr>\n",
              "      <th>0</th>\n",
              "      <td>7.4</td>\n",
              "      <td>0.70</td>\n",
              "      <td>0.00</td>\n",
              "      <td>1.9</td>\n",
              "      <td>0.076</td>\n",
              "      <td>11.0</td>\n",
              "      <td>34.0</td>\n",
              "      <td>0.9978</td>\n",
              "      <td>3.51</td>\n",
              "      <td>0.56</td>\n",
              "      <td>9.4</td>\n",
              "      <td>5</td>\n",
              "    </tr>\n",
              "    <tr>\n",
              "      <th>1</th>\n",
              "      <td>7.8</td>\n",
              "      <td>0.88</td>\n",
              "      <td>0.00</td>\n",
              "      <td>2.6</td>\n",
              "      <td>0.098</td>\n",
              "      <td>25.0</td>\n",
              "      <td>67.0</td>\n",
              "      <td>0.9968</td>\n",
              "      <td>3.20</td>\n",
              "      <td>0.68</td>\n",
              "      <td>9.8</td>\n",
              "      <td>5</td>\n",
              "    </tr>\n",
              "    <tr>\n",
              "      <th>2</th>\n",
              "      <td>7.8</td>\n",
              "      <td>0.76</td>\n",
              "      <td>0.04</td>\n",
              "      <td>2.3</td>\n",
              "      <td>0.092</td>\n",
              "      <td>15.0</td>\n",
              "      <td>54.0</td>\n",
              "      <td>0.9970</td>\n",
              "      <td>3.26</td>\n",
              "      <td>0.65</td>\n",
              "      <td>9.8</td>\n",
              "      <td>5</td>\n",
              "    </tr>\n",
              "    <tr>\n",
              "      <th>3</th>\n",
              "      <td>11.2</td>\n",
              "      <td>0.28</td>\n",
              "      <td>0.56</td>\n",
              "      <td>1.9</td>\n",
              "      <td>0.075</td>\n",
              "      <td>17.0</td>\n",
              "      <td>60.0</td>\n",
              "      <td>0.9980</td>\n",
              "      <td>3.16</td>\n",
              "      <td>0.58</td>\n",
              "      <td>9.8</td>\n",
              "      <td>6</td>\n",
              "    </tr>\n",
              "    <tr>\n",
              "      <th>4</th>\n",
              "      <td>7.4</td>\n",
              "      <td>0.70</td>\n",
              "      <td>0.00</td>\n",
              "      <td>1.9</td>\n",
              "      <td>0.076</td>\n",
              "      <td>11.0</td>\n",
              "      <td>34.0</td>\n",
              "      <td>0.9978</td>\n",
              "      <td>3.51</td>\n",
              "      <td>0.56</td>\n",
              "      <td>9.4</td>\n",
              "      <td>5</td>\n",
              "    </tr>\n",
              "  </tbody>\n",
              "</table>\n",
              "</div>\n",
              "      <button class=\"colab-df-convert\" onclick=\"convertToInteractive('df-9915431a-5407-43d8-b41f-34df47666293')\"\n",
              "              title=\"Convert this dataframe to an interactive table.\"\n",
              "              style=\"display:none;\">\n",
              "        \n",
              "  <svg xmlns=\"http://www.w3.org/2000/svg\" height=\"24px\"viewBox=\"0 0 24 24\"\n",
              "       width=\"24px\">\n",
              "    <path d=\"M0 0h24v24H0V0z\" fill=\"none\"/>\n",
              "    <path d=\"M18.56 5.44l.94 2.06.94-2.06 2.06-.94-2.06-.94-.94-2.06-.94 2.06-2.06.94zm-11 1L8.5 8.5l.94-2.06 2.06-.94-2.06-.94L8.5 2.5l-.94 2.06-2.06.94zm10 10l.94 2.06.94-2.06 2.06-.94-2.06-.94-.94-2.06-.94 2.06-2.06.94z\"/><path d=\"M17.41 7.96l-1.37-1.37c-.4-.4-.92-.59-1.43-.59-.52 0-1.04.2-1.43.59L10.3 9.45l-7.72 7.72c-.78.78-.78 2.05 0 2.83L4 21.41c.39.39.9.59 1.41.59.51 0 1.02-.2 1.41-.59l7.78-7.78 2.81-2.81c.8-.78.8-2.07 0-2.86zM5.41 20L4 18.59l7.72-7.72 1.47 1.35L5.41 20z\"/>\n",
              "  </svg>\n",
              "      </button>\n",
              "      \n",
              "  <style>\n",
              "    .colab-df-container {\n",
              "      display:flex;\n",
              "      flex-wrap:wrap;\n",
              "      gap: 12px;\n",
              "    }\n",
              "\n",
              "    .colab-df-convert {\n",
              "      background-color: #E8F0FE;\n",
              "      border: none;\n",
              "      border-radius: 50%;\n",
              "      cursor: pointer;\n",
              "      display: none;\n",
              "      fill: #1967D2;\n",
              "      height: 32px;\n",
              "      padding: 0 0 0 0;\n",
              "      width: 32px;\n",
              "    }\n",
              "\n",
              "    .colab-df-convert:hover {\n",
              "      background-color: #E2EBFA;\n",
              "      box-shadow: 0px 1px 2px rgba(60, 64, 67, 0.3), 0px 1px 3px 1px rgba(60, 64, 67, 0.15);\n",
              "      fill: #174EA6;\n",
              "    }\n",
              "\n",
              "    [theme=dark] .colab-df-convert {\n",
              "      background-color: #3B4455;\n",
              "      fill: #D2E3FC;\n",
              "    }\n",
              "\n",
              "    [theme=dark] .colab-df-convert:hover {\n",
              "      background-color: #434B5C;\n",
              "      box-shadow: 0px 1px 3px 1px rgba(0, 0, 0, 0.15);\n",
              "      filter: drop-shadow(0px 1px 2px rgba(0, 0, 0, 0.3));\n",
              "      fill: #FFFFFF;\n",
              "    }\n",
              "  </style>\n",
              "\n",
              "      <script>\n",
              "        const buttonEl =\n",
              "          document.querySelector('#df-9915431a-5407-43d8-b41f-34df47666293 button.colab-df-convert');\n",
              "        buttonEl.style.display =\n",
              "          google.colab.kernel.accessAllowed ? 'block' : 'none';\n",
              "\n",
              "        async function convertToInteractive(key) {\n",
              "          const element = document.querySelector('#df-9915431a-5407-43d8-b41f-34df47666293');\n",
              "          const dataTable =\n",
              "            await google.colab.kernel.invokeFunction('convertToInteractive',\n",
              "                                                     [key], {});\n",
              "          if (!dataTable) return;\n",
              "\n",
              "          const docLinkHtml = 'Like what you see? Visit the ' +\n",
              "            '<a target=\"_blank\" href=https://colab.research.google.com/notebooks/data_table.ipynb>data table notebook</a>'\n",
              "            + ' to learn more about interactive tables.';\n",
              "          element.innerHTML = '';\n",
              "          dataTable['output_type'] = 'display_data';\n",
              "          await google.colab.output.renderOutput(dataTable, element);\n",
              "          const docLink = document.createElement('div');\n",
              "          docLink.innerHTML = docLinkHtml;\n",
              "          element.appendChild(docLink);\n",
              "        }\n",
              "      </script>\n",
              "    </div>\n",
              "  </div>\n",
              "  "
            ]
          },
          "metadata": {},
          "execution_count": 2
        }
      ]
    },
    {
      "cell_type": "code",
      "source": [
        "df_white = pd.read_csv('winequality-white.csv', delimiter = \";\").dropna()\n",
        "df_white.head()"
      ],
      "metadata": {
        "colab": {
          "base_uri": "https://localhost:8080/",
          "height": 206
        },
        "id": "urwnXMul3ils",
        "outputId": "d0767824-bc7d-4787-9dac-4bbf42bdcae7"
      },
      "execution_count": null,
      "outputs": [
        {
          "output_type": "execute_result",
          "data": {
            "text/plain": [
              "   fixed acidity  volatile acidity  citric acid  residual sugar  chlorides  \\\n",
              "0            7.0              0.27         0.36            20.7      0.045   \n",
              "1            6.3              0.30         0.34             1.6      0.049   \n",
              "2            8.1              0.28         0.40             6.9      0.050   \n",
              "3            7.2              0.23         0.32             8.5      0.058   \n",
              "4            7.2              0.23         0.32             8.5      0.058   \n",
              "\n",
              "   free sulfur dioxide  total sulfur dioxide  density    pH  sulphates  \\\n",
              "0                 45.0                 170.0   1.0010  3.00       0.45   \n",
              "1                 14.0                 132.0   0.9940  3.30       0.49   \n",
              "2                 30.0                  97.0   0.9951  3.26       0.44   \n",
              "3                 47.0                 186.0   0.9956  3.19       0.40   \n",
              "4                 47.0                 186.0   0.9956  3.19       0.40   \n",
              "\n",
              "   alcohol  quality  \n",
              "0      8.8        6  \n",
              "1      9.5        6  \n",
              "2     10.1        6  \n",
              "3      9.9        6  \n",
              "4      9.9        6  "
            ],
            "text/html": [
              "\n",
              "  <div id=\"df-aa326f7f-169a-48a4-8bd5-a89a6a320480\">\n",
              "    <div class=\"colab-df-container\">\n",
              "      <div>\n",
              "<style scoped>\n",
              "    .dataframe tbody tr th:only-of-type {\n",
              "        vertical-align: middle;\n",
              "    }\n",
              "\n",
              "    .dataframe tbody tr th {\n",
              "        vertical-align: top;\n",
              "    }\n",
              "\n",
              "    .dataframe thead th {\n",
              "        text-align: right;\n",
              "    }\n",
              "</style>\n",
              "<table border=\"1\" class=\"dataframe\">\n",
              "  <thead>\n",
              "    <tr style=\"text-align: right;\">\n",
              "      <th></th>\n",
              "      <th>fixed acidity</th>\n",
              "      <th>volatile acidity</th>\n",
              "      <th>citric acid</th>\n",
              "      <th>residual sugar</th>\n",
              "      <th>chlorides</th>\n",
              "      <th>free sulfur dioxide</th>\n",
              "      <th>total sulfur dioxide</th>\n",
              "      <th>density</th>\n",
              "      <th>pH</th>\n",
              "      <th>sulphates</th>\n",
              "      <th>alcohol</th>\n",
              "      <th>quality</th>\n",
              "    </tr>\n",
              "  </thead>\n",
              "  <tbody>\n",
              "    <tr>\n",
              "      <th>0</th>\n",
              "      <td>7.0</td>\n",
              "      <td>0.27</td>\n",
              "      <td>0.36</td>\n",
              "      <td>20.7</td>\n",
              "      <td>0.045</td>\n",
              "      <td>45.0</td>\n",
              "      <td>170.0</td>\n",
              "      <td>1.0010</td>\n",
              "      <td>3.00</td>\n",
              "      <td>0.45</td>\n",
              "      <td>8.8</td>\n",
              "      <td>6</td>\n",
              "    </tr>\n",
              "    <tr>\n",
              "      <th>1</th>\n",
              "      <td>6.3</td>\n",
              "      <td>0.30</td>\n",
              "      <td>0.34</td>\n",
              "      <td>1.6</td>\n",
              "      <td>0.049</td>\n",
              "      <td>14.0</td>\n",
              "      <td>132.0</td>\n",
              "      <td>0.9940</td>\n",
              "      <td>3.30</td>\n",
              "      <td>0.49</td>\n",
              "      <td>9.5</td>\n",
              "      <td>6</td>\n",
              "    </tr>\n",
              "    <tr>\n",
              "      <th>2</th>\n",
              "      <td>8.1</td>\n",
              "      <td>0.28</td>\n",
              "      <td>0.40</td>\n",
              "      <td>6.9</td>\n",
              "      <td>0.050</td>\n",
              "      <td>30.0</td>\n",
              "      <td>97.0</td>\n",
              "      <td>0.9951</td>\n",
              "      <td>3.26</td>\n",
              "      <td>0.44</td>\n",
              "      <td>10.1</td>\n",
              "      <td>6</td>\n",
              "    </tr>\n",
              "    <tr>\n",
              "      <th>3</th>\n",
              "      <td>7.2</td>\n",
              "      <td>0.23</td>\n",
              "      <td>0.32</td>\n",
              "      <td>8.5</td>\n",
              "      <td>0.058</td>\n",
              "      <td>47.0</td>\n",
              "      <td>186.0</td>\n",
              "      <td>0.9956</td>\n",
              "      <td>3.19</td>\n",
              "      <td>0.40</td>\n",
              "      <td>9.9</td>\n",
              "      <td>6</td>\n",
              "    </tr>\n",
              "    <tr>\n",
              "      <th>4</th>\n",
              "      <td>7.2</td>\n",
              "      <td>0.23</td>\n",
              "      <td>0.32</td>\n",
              "      <td>8.5</td>\n",
              "      <td>0.058</td>\n",
              "      <td>47.0</td>\n",
              "      <td>186.0</td>\n",
              "      <td>0.9956</td>\n",
              "      <td>3.19</td>\n",
              "      <td>0.40</td>\n",
              "      <td>9.9</td>\n",
              "      <td>6</td>\n",
              "    </tr>\n",
              "  </tbody>\n",
              "</table>\n",
              "</div>\n",
              "      <button class=\"colab-df-convert\" onclick=\"convertToInteractive('df-aa326f7f-169a-48a4-8bd5-a89a6a320480')\"\n",
              "              title=\"Convert this dataframe to an interactive table.\"\n",
              "              style=\"display:none;\">\n",
              "        \n",
              "  <svg xmlns=\"http://www.w3.org/2000/svg\" height=\"24px\"viewBox=\"0 0 24 24\"\n",
              "       width=\"24px\">\n",
              "    <path d=\"M0 0h24v24H0V0z\" fill=\"none\"/>\n",
              "    <path d=\"M18.56 5.44l.94 2.06.94-2.06 2.06-.94-2.06-.94-.94-2.06-.94 2.06-2.06.94zm-11 1L8.5 8.5l.94-2.06 2.06-.94-2.06-.94L8.5 2.5l-.94 2.06-2.06.94zm10 10l.94 2.06.94-2.06 2.06-.94-2.06-.94-.94-2.06-.94 2.06-2.06.94z\"/><path d=\"M17.41 7.96l-1.37-1.37c-.4-.4-.92-.59-1.43-.59-.52 0-1.04.2-1.43.59L10.3 9.45l-7.72 7.72c-.78.78-.78 2.05 0 2.83L4 21.41c.39.39.9.59 1.41.59.51 0 1.02-.2 1.41-.59l7.78-7.78 2.81-2.81c.8-.78.8-2.07 0-2.86zM5.41 20L4 18.59l7.72-7.72 1.47 1.35L5.41 20z\"/>\n",
              "  </svg>\n",
              "      </button>\n",
              "      \n",
              "  <style>\n",
              "    .colab-df-container {\n",
              "      display:flex;\n",
              "      flex-wrap:wrap;\n",
              "      gap: 12px;\n",
              "    }\n",
              "\n",
              "    .colab-df-convert {\n",
              "      background-color: #E8F0FE;\n",
              "      border: none;\n",
              "      border-radius: 50%;\n",
              "      cursor: pointer;\n",
              "      display: none;\n",
              "      fill: #1967D2;\n",
              "      height: 32px;\n",
              "      padding: 0 0 0 0;\n",
              "      width: 32px;\n",
              "    }\n",
              "\n",
              "    .colab-df-convert:hover {\n",
              "      background-color: #E2EBFA;\n",
              "      box-shadow: 0px 1px 2px rgba(60, 64, 67, 0.3), 0px 1px 3px 1px rgba(60, 64, 67, 0.15);\n",
              "      fill: #174EA6;\n",
              "    }\n",
              "\n",
              "    [theme=dark] .colab-df-convert {\n",
              "      background-color: #3B4455;\n",
              "      fill: #D2E3FC;\n",
              "    }\n",
              "\n",
              "    [theme=dark] .colab-df-convert:hover {\n",
              "      background-color: #434B5C;\n",
              "      box-shadow: 0px 1px 3px 1px rgba(0, 0, 0, 0.15);\n",
              "      filter: drop-shadow(0px 1px 2px rgba(0, 0, 0, 0.3));\n",
              "      fill: #FFFFFF;\n",
              "    }\n",
              "  </style>\n",
              "\n",
              "      <script>\n",
              "        const buttonEl =\n",
              "          document.querySelector('#df-aa326f7f-169a-48a4-8bd5-a89a6a320480 button.colab-df-convert');\n",
              "        buttonEl.style.display =\n",
              "          google.colab.kernel.accessAllowed ? 'block' : 'none';\n",
              "\n",
              "        async function convertToInteractive(key) {\n",
              "          const element = document.querySelector('#df-aa326f7f-169a-48a4-8bd5-a89a6a320480');\n",
              "          const dataTable =\n",
              "            await google.colab.kernel.invokeFunction('convertToInteractive',\n",
              "                                                     [key], {});\n",
              "          if (!dataTable) return;\n",
              "\n",
              "          const docLinkHtml = 'Like what you see? Visit the ' +\n",
              "            '<a target=\"_blank\" href=https://colab.research.google.com/notebooks/data_table.ipynb>data table notebook</a>'\n",
              "            + ' to learn more about interactive tables.';\n",
              "          element.innerHTML = '';\n",
              "          dataTable['output_type'] = 'display_data';\n",
              "          await google.colab.output.renderOutput(dataTable, element);\n",
              "          const docLink = document.createElement('div');\n",
              "          docLink.innerHTML = docLinkHtml;\n",
              "          element.appendChild(docLink);\n",
              "        }\n",
              "      </script>\n",
              "    </div>\n",
              "  </div>\n",
              "  "
            ]
          },
          "metadata": {},
          "execution_count": 3
        }
      ]
    },
    {
      "cell_type": "markdown",
      "source": [
        "---\n",
        "\n",
        "### Separación de variables"
      ],
      "metadata": {
        "id": "6Y48ejBQbpR0"
      }
    },
    {
      "cell_type": "code",
      "source": [
        "# Asignamos las variables objetivo a y\n",
        "# En X removemos la variable objetivo y una columna de enumeración\n",
        "\n",
        "y_white = df_white['quality']\n",
        "X_white = df_white.drop(['quality'], axis = 1)\n",
        "\n",
        "\n",
        "y_red = df_red['quality']\n",
        "X_red = df_red.drop(['quality'], axis = 1)"
      ],
      "metadata": {
        "id": "kAkd6IDT5rww"
      },
      "execution_count": null,
      "outputs": []
    },
    {
      "cell_type": "code",
      "source": [
        "# Entrenamos los conjunto de datos con una proporción de 75-25 en entrenamiento-testeo\n",
        "\n",
        "X_train_white, X_test_white, y_train_white, y_test_white = train_test_split(X_white, y_white, random_state = 0, test_size = 0.25, shuffle = True)\n",
        "\n",
        "X_train_red, X_test_red, y_train_red, y_test_red = train_test_split(X_red, y_red, random_state = 0, test_size = 0.25, shuffle = True)"
      ],
      "metadata": {
        "id": "HcE8lyTzDnra"
      },
      "execution_count": null,
      "outputs": []
    },
    {
      "cell_type": "markdown",
      "source": [
        "\n",
        "\n",
        "---\n",
        "\n"
      ],
      "metadata": {
        "id": "Ebw1XEejEtme"
      }
    },
    {
      "cell_type": "markdown",
      "source": [
        "### **Regresion Lineal**\n",
        "<a name=\"lineal\"></a>\n",
        "\n",
        "La regresión lineal es un método utilizado para predecir valores numéricos continuos. Se basa en la relación lineal entre nuestra variable de entrada (características o atributos) y una variable de salida (objetivo). La regresión lineal busca encontrar la mejor línea recta que se ajuste a los datos para realizar predicciones."
      ],
      "metadata": {
        "id": "wdvF0OvfIEEu"
      }
    },
    {
      "cell_type": "code",
      "source": [
        "# Creamos una matriz de lambdas para encontrar un valor óptimo para alpha\n",
        "\n",
        "lambdas = 10**np.linspace(10,-2,100)"
      ],
      "metadata": {
        "id": "m0imRQS9GKUk"
      },
      "execution_count": null,
      "outputs": []
    },
    {
      "cell_type": "code",
      "source": [
        "# Entrenamos el modelo de regresión lineal\n",
        "\n",
        "regr_white = LinearRegression()\n",
        "regr_white.fit(X_train_white, y_train_white)\n",
        "print(\"Coeficiente de determinación: \", regr_white.score(X_test_white, y_test_white))"
      ],
      "metadata": {
        "colab": {
          "base_uri": "https://localhost:8080/"
        },
        "id": "5x7U65AEGL-k",
        "outputId": "f9afb576-1631-4abf-d2ab-236f84c2dba8"
      },
      "execution_count": null,
      "outputs": [
        {
          "output_type": "stream",
          "name": "stdout",
          "text": [
            "Coeficiente de determinación:  0.24380039034360979\n"
          ]
        }
      ]
    },
    {
      "cell_type": "code",
      "source": [
        "regr_red = LinearRegression()\n",
        "regr_red.fit(X_train_red, y_train_red)\n",
        "print(\"Coeficiente de determinación: \", regr_red.score(X_test_red, y_test_red))"
      ],
      "metadata": {
        "colab": {
          "base_uri": "https://localhost:8080/"
        },
        "id": "cnXaXQqnGVZ7",
        "outputId": "015ef8e8-7001-4ccb-8c19-74f1873a8d25"
      },
      "execution_count": null,
      "outputs": [
        {
          "output_type": "stream",
          "name": "stdout",
          "text": [
            "Coeficiente de determinación:  0.34542438124562935\n"
          ]
        }
      ]
    },
    {
      "cell_type": "markdown",
      "source": [
        "Para este caso, los scores son valores muy bajos. De esto podemos decir que los datos están muy dispersos como para aplicarlos a un modelo de regresión lineal simple."
      ],
      "metadata": {
        "id": "Sc9gkX-DIlHu"
      }
    },
    {
      "cell_type": "markdown",
      "source": [
        "\n",
        "\n",
        "---\n",
        "\n"
      ],
      "metadata": {
        "id": "3y7MK_XCEvke"
      }
    },
    {
      "cell_type": "markdown",
      "source": [
        "### **Regresión de Ridge**\n",
        "<a name=\"ridge\"></a>\n",
        "\n",
        "La regresión de Ridge es una técnica utilizada para abordar el problema de alta correlación entre características y reducir la varianza del modelo. Agrega un término de regularización a la función de costo de la regresión lineal estándar.\n",
        "\n",
        "Este término de regularización penaliza los coeficientes de las características, lo que ayuda a reducir su magnitud y evita que el modelo se ajuste demasiado a los datos de entrenamiento. La regresión de Ridge busca encontrar un equilibrio entre ajustarse a los datos y mantener coeficientes pequeños."
      ],
      "metadata": {
        "id": "olpqKxybIo22"
      }
    },
    {
      "cell_type": "code",
      "source": [
        "ridge_white = Ridge()\n",
        "ridge_red = Ridge()\n",
        "\n",
        "coefs_white = []\n",
        "coefs_red = []\n",
        "\n",
        "for a in lambdas:\n",
        "    ridge_white.set_params(alpha = a)\n",
        "    ridge_red.set_params(alpha = a)\n",
        "\n",
        "    ridge_white.fit(X_white, y_white)\n",
        "    ridge_red.fit(X_red, y_red)\n",
        "\n",
        "    coefs_white.append(ridge_white.coef_)\n",
        "    coefs_red.append(ridge_red.coef_)"
      ],
      "metadata": {
        "id": "FkQpU4LlIs3A"
      },
      "execution_count": null,
      "outputs": []
    },
    {
      "cell_type": "code",
      "source": [
        "# Imprimir las dimensiones de la matriz coeficientes\n",
        "\n",
        "print(\"Dimensiones para vino blanco: \", np.shape(coefs_white))\n",
        "print(\"Dimensiones para vino tinto: \", np.shape(coefs_red))"
      ],
      "metadata": {
        "colab": {
          "base_uri": "https://localhost:8080/"
        },
        "id": "eIkSeQ5cXchJ",
        "outputId": "d9e2de17-08f2-4726-ffb9-320b2d384c10"
      },
      "execution_count": null,
      "outputs": [
        {
          "output_type": "stream",
          "name": "stdout",
          "text": [
            "Dimensiones para vino blanco:  (100, 11)\n",
            "Dimensiones para vino tinto:  (100, 11)\n"
          ]
        }
      ]
    },
    {
      "cell_type": "code",
      "source": [
        "ridgecv_white = RidgeCV(alphas = lambdas)\n",
        "ridgecv_white.fit(X_train_white, y_train_white)\n",
        "print(\"Alpha para vino blanco: \")\n",
        "ridgecv_white.alpha_"
      ],
      "metadata": {
        "colab": {
          "base_uri": "https://localhost:8080/"
        },
        "id": "F1zIV3q_XdLR",
        "outputId": "deb7ca23-14cc-4120-f6e6-6a95353787cf"
      },
      "execution_count": null,
      "outputs": [
        {
          "output_type": "stream",
          "name": "stdout",
          "text": [
            "Alpha para vino blanco: \n"
          ]
        },
        {
          "output_type": "execute_result",
          "data": {
            "text/plain": [
              "0.01"
            ]
          },
          "metadata": {},
          "execution_count": 11
        }
      ]
    },
    {
      "cell_type": "code",
      "source": [
        "ridgecv_red = RidgeCV(alphas = lambdas)\n",
        "ridgecv_red.fit(X_train_red, y_train_red)\n",
        "print(\"Alpha para vino tinto: \")\n",
        "ridgecv_red.alpha_"
      ],
      "metadata": {
        "colab": {
          "base_uri": "https://localhost:8080/"
        },
        "id": "9mr1EAy9Xf8j",
        "outputId": "c1089b24-d949-466d-9645-429b5a7dee92"
      },
      "execution_count": null,
      "outputs": [
        {
          "output_type": "stream",
          "name": "stdout",
          "text": [
            "Alpha para vino tinto: \n"
          ]
        },
        {
          "output_type": "execute_result",
          "data": {
            "text/plain": [
              "0.2848035868435805"
            ]
          },
          "metadata": {},
          "execution_count": 12
        }
      ]
    },
    {
      "cell_type": "code",
      "source": [
        "ridge_white = Ridge(alpha = ridgecv_white.alpha_)\n",
        "ridge_white.fit(X_train_white, y_train_white)                     # Entrenar una regresión de Ridge para el conjunto de entrenamiento.\n",
        "pred_white = ridge_white.predict(X_test_white)                    # Uso del modelo para predecir el conjunto de Testeo\n",
        "print(pd.Series(ridge_white.coef_, index = X_white.columns))      # Imprimir los coeficientes del modelo\n",
        "print(mean_squared_error(y_test_white, pred_white))               # Imprimit el error de mínimos cuadrados MSE\n",
        "\n",
        "print(\"Coeficiente de determinaciòn:\", ridge_white.score(X_test_white, y_test_white))         #Imprimir el coeficiente de determinación R^2"
      ],
      "metadata": {
        "colab": {
          "base_uri": "https://localhost:8080/"
        },
        "id": "z8sJzag1XzBC",
        "outputId": "58731558-f0df-4fef-af36-d49a86339561"
      },
      "execution_count": null,
      "outputs": [
        {
          "output_type": "stream",
          "name": "stdout",
          "text": [
            "fixed acidity           -0.026579\n",
            "volatile acidity        -1.873053\n",
            "citric acid             -0.053014\n",
            "residual sugar           0.030643\n",
            "chlorides               -1.212502\n",
            "free sulfur dioxide      0.005852\n",
            "total sulfur dioxide    -0.001015\n",
            "density                -13.842267\n",
            "pH                       0.263198\n",
            "sulphates                0.378314\n",
            "alcohol                  0.344355\n",
            "dtype: float64\n",
            "0.6319548691260302\n",
            "Coeficiente de determinaciòn: 0.2449323018573596\n"
          ]
        }
      ]
    },
    {
      "cell_type": "code",
      "source": [
        "ridge_red = Ridge(alpha = ridgecv_red.alpha_)\n",
        "ridge_red.fit(X_train_red, y_train_red)                     # Entrenar una regresión de Ridge para el conjunto de entrenamiento.\n",
        "pred_red = ridge_red.predict(X_test_red)                    # Uso del modelo para predecir el conjunto de Testeo\n",
        "print(pd.Series(ridge_red.coef_, index = X_red.columns))    # Imprimir los coeficientes del modelo\n",
        "print(mean_squared_error(y_test_red, pred_red))             # Imprimit el error de mínimos cuadrados MSE\n",
        "\n",
        "print(\"Coeficiente de determinaciòn:\", ridge_red.score(X_test_red, y_test_red))         #Imprimir el coeficiente de determinación R^2"
      ],
      "metadata": {
        "colab": {
          "base_uri": "https://localhost:8080/"
        },
        "id": "zeGLdxvSXzrS",
        "outputId": "7e1b939b-9424-49b2-fa96-00f898127d03"
      },
      "execution_count": null,
      "outputs": [
        {
          "output_type": "stream",
          "name": "stdout",
          "text": [
            "fixed acidity           0.006569\n",
            "volatile acidity       -1.230276\n",
            "citric acid            -0.166604\n",
            "residual sugar          0.013817\n",
            "chlorides              -1.633229\n",
            "free sulfur dioxide     0.002803\n",
            "total sulfur dioxide   -0.002912\n",
            "density                -0.052069\n",
            "pH                     -0.458390\n",
            "sulphates               0.798778\n",
            "alcohol                 0.287230\n",
            "dtype: float64\n",
            "0.4002378282802988\n",
            "Coeficiente de determinaciòn: 0.3451539249537503\n"
          ]
        }
      ]
    },
    {
      "cell_type": "markdown",
      "source": [
        "El score para el vino blanco mejoró de manera mínima y el vino rojo empeoró igualemente de manera mínima. El cambio con respecto a la regresión lineal es casi imperceptible y los scores sigen siendo demasiado bajos."
      ],
      "metadata": {
        "id": "FeuAthE7dUl9"
      }
    },
    {
      "cell_type": "markdown",
      "source": [
        "---"
      ],
      "metadata": {
        "id": "OWmWDHxUKQQS"
      }
    },
    {
      "cell_type": "markdown",
      "source": [
        "### **Regresión de Lasso**\n",
        "<a name=\"lasso\"></a>\n",
        "La regresión de Lasso (Least Absolute Shrinkage and Selection Operator) también es una técnica de regularización, al igual que la regresión de Ridge, agrega un término de regularización a la función de costo de la regresión lineal estándar. Sin embargo, a diferencia de Ridge, la regresión de Lasso utiliza una penalización basada en el valor absoluto de los coeficientes en lugar del valor al cuadrado. Esta penalización favorece la selección de características relevantes y puede llevar a un modelo más disperso con coeficientes exactamente iguales a cero, lo que proporciona una forma de selección automática de características. En resumen, la regresión de Lasso busca tanto ajustar los datos como seleccionar un subconjunto relevante de características."
      ],
      "metadata": {
        "id": "1jrmKLbqHACX"
      }
    },
    {
      "cell_type": "code",
      "source": [
        "lassocv_white = LassoCV(alphas = lambdas)\n",
        "lassocv_white.fit(X_train_white, y_train_white)\n",
        "print(\"Valor óptimo de Lambda:\", lassocv_white.alpha_)\n",
        "\n",
        "lassocv_red = LassoCV(alphas = lambdas)\n",
        "lassocv_red.fit(X_train_red, y_train_red)\n",
        "print(\"Valor óptimo de Lambda:\", lassocv_red.alpha_)"
      ],
      "metadata": {
        "colab": {
          "base_uri": "https://localhost:8080/"
        },
        "id": "3rq-LhlodbeB",
        "outputId": "5d7c44a8-551f-43ce-905b-86613e8109c5"
      },
      "execution_count": null,
      "outputs": [
        {
          "output_type": "stream",
          "name": "stdout",
          "text": [
            "Valor óptimo de Lambda: 0.01\n",
            "Valor óptimo de Lambda: 0.01\n"
          ]
        }
      ]
    },
    {
      "cell_type": "code",
      "source": [
        "lasso_white = Lasso(alpha = lassocv_white.alpha_)\n",
        "lasso_white.fit(X_train_white, y_train_white)            # Entrenar una regresión de Ridge para el conjunto de entrenamiento.\n",
        "pred_white = lasso_white.predict(X_test_white)\n",
        "\n",
        "print(\"Error de mínimos cuadrados:\")\n",
        "print(mean_squared_error(y_test_white, pred_white))      # Imprimit el error de mínimos cuadrados MSE\n",
        "\n",
        "\n",
        "lasso_red = Lasso(alpha = lassocv_red.alpha_)\n",
        "lasso_red.fit(X_train_red, y_train_red)                  # Entrenar una regresión de Ridge para el conjunto de entrenamiento.\n",
        "pred_red = lasso_red.predict(X_test_red)\n",
        "\n",
        "print(\"Error de mínimos cuadrados:\")\n",
        "print(mean_squared_error(y_test_red, pred_red))          # Imprimit el error de mínimos cuadrados MSE"
      ],
      "metadata": {
        "colab": {
          "base_uri": "https://localhost:8080/"
        },
        "id": "ScNqg3lhdey2",
        "outputId": "8ab786b0-c3a3-4614-ce1b-929173f8f616"
      },
      "execution_count": null,
      "outputs": [
        {
          "output_type": "stream",
          "name": "stdout",
          "text": [
            "Error de mínimos cuadrados:\n",
            "0.6543201436544384\n",
            "Error de mínimos cuadrados:\n",
            "0.4065433823267242\n"
          ]
        }
      ]
    },
    {
      "cell_type": "markdown",
      "source": [
        "Para este caso, ambos scores mejoraron con respecto a las dos regresiones anteriores."
      ],
      "metadata": {
        "id": "zsf9_gk8d_12"
      }
    },
    {
      "cell_type": "markdown",
      "source": [
        "\n",
        "\n",
        "---\n",
        "\n"
      ],
      "metadata": {
        "id": "A0YFjOrqMw19"
      }
    },
    {
      "cell_type": "markdown",
      "source": [
        "### **Árboles de regresión**\n",
        "<a name=\"arbol\"></a>\n",
        "\n",
        "Los árboles de regresión son algoritmos utilizados para predecir valores numéricos continuos. Utilizan una estructura de árbol en la que cada nodo representa una característica y cada rama representa una decisión basada en esa característica. Los árboles se construyen dividiendo recursivamente los datos en subconjuntos más pequeños, minimizando la varianza dentro de cada subconjunto. Las predicciones se obtienen recorriendo el árbol desde el nodo raíz hasta llegar a una hoja, donde se obtiene el valor de predicción."
      ],
      "metadata": {
        "id": "8_1We3sdKnSc"
      }
    },
    {
      "cell_type": "code",
      "source": [
        "# Creamos la lista de valores del atributo max_leaf_nodes\n",
        "\n",
        "max_leaf_nodes = []\n",
        "\n",
        "for i in range(2, 51):\n",
        "    max_leaf_nodes.append(int(i))"
      ],
      "metadata": {
        "id": "2ZBA4QCFl7vQ"
      },
      "execution_count": null,
      "outputs": []
    },
    {
      "cell_type": "code",
      "source": [
        "# Creamos la lista de valores del atributo max_depth\n",
        "\n",
        "max_depth = []\n",
        "\n",
        "for i in range(2, 51):\n",
        "    max_depth.append(int(i))"
      ],
      "metadata": {
        "id": "Abw_S5vBl8-I"
      },
      "execution_count": null,
      "outputs": []
    },
    {
      "cell_type": "code",
      "source": [
        "# Aplicamos el arbol de regresion con todos las combinaciones de valores que generamos anteriormente para hallar el score optimo de todos esos.\n",
        "\n",
        "scores_white = 0\n",
        "scores_graph_white = []\n",
        "\n",
        "for a in max_leaf_nodes:\n",
        "    for b in max_depth:\n",
        "        clf_white = DecisionTreeRegressor(random_state = 0, max_leaf_nodes = a, max_depth = b)\n",
        "        clf_white.fit(X_train_white, y_train_white)\n",
        "\n",
        "        y_pred_white = clf_white.predict(X_test_white)\n",
        "\n",
        "        v_white = clf_white.score(X_white, y_white)\n",
        "\n",
        "        scores_graph_white.append(v_white)\n",
        "\n",
        "        if v_white > scores_white: # Aca vamos eleccionando el score mas alto.\n",
        "            scores_white = v_white\n",
        "            mln = a\n",
        "            md = b\n",
        "\n",
        "print(\"max_leaf_nodes = \", a, \"max_depth = \", b, \"score = \", scores_white)"
      ],
      "metadata": {
        "colab": {
          "base_uri": "https://localhost:8080/"
        },
        "id": "XQyyxwLpnIQG",
        "outputId": "ca1c4737-0b78-4d6b-a545-bf419dc878f2"
      },
      "execution_count": null,
      "outputs": [
        {
          "output_type": "stream",
          "name": "stdout",
          "text": [
            "max_leaf_nodes =  50 max_depth =  50 score =  0.3986793930354242\n"
          ]
        }
      ]
    },
    {
      "cell_type": "code",
      "source": [
        "# Aplicamos el arbol de regresion con todos las combinaciones de valores que generamos anteriormente para hallar el score optimo de todos esos.\n",
        "\n",
        "scores_red = 0\n",
        "scores_graph_red = []\n",
        "\n",
        "for a in max_leaf_nodes:\n",
        "    for b in max_depth:\n",
        "        clf_red = DecisionTreeRegressor(random_state = 0, max_leaf_nodes = a, max_depth = b)\n",
        "        clf_red.fit(X_train_red, y_train_red)\n",
        "\n",
        "        y_pred_red = clf_red.predict(X_test_red)\n",
        "\n",
        "        v_red = clf_red.score(X_red, y_red)\n",
        "\n",
        "        scores_graph_red.append(v_red)\n",
        "\n",
        "        if v_red > scores_red: # Aca vamos eleccionando el score mas alto.\n",
        "            scores_red = v_red\n",
        "            mln = a\n",
        "            md = b\n",
        "\n",
        "\n",
        "print(\"max_leaf_nodes = \", a, \"max_depth = \", b, \"score = \", scores_red)"
      ],
      "metadata": {
        "colab": {
          "base_uri": "https://localhost:8080/"
        },
        "id": "4Ujf9mQTn3Id",
        "outputId": "cadb81f0-054d-4ffc-8900-6d9e0907522a"
      },
      "execution_count": null,
      "outputs": [
        {
          "output_type": "stream",
          "name": "stdout",
          "text": [
            "max_leaf_nodes =  50 max_depth =  50 score =  0.5246504505805071\n"
          ]
        }
      ]
    },
    {
      "cell_type": "code",
      "source": [
        "plt.plot(scores_graph_white) # Graficamos los scores"
      ],
      "metadata": {
        "colab": {
          "base_uri": "https://localhost:8080/",
          "height": 447
        },
        "id": "yfUrUeq6rCeg",
        "outputId": "45026f28-36e4-4ffe-fda6-f13ae2403e6f"
      },
      "execution_count": null,
      "outputs": [
        {
          "output_type": "execute_result",
          "data": {
            "text/plain": [
              "[<matplotlib.lines.Line2D at 0x7fbdc0547d90>]"
            ]
          },
          "metadata": {},
          "execution_count": 21
        },
        {
          "output_type": "display_data",
          "data": {
            "text/plain": [
              "<Figure size 640x480 with 1 Axes>"
            ],
            "image/png": "[encoded data removed]"
          },
          "metadata": {}
        }
      ]
    },
    {
      "cell_type": "code",
      "source": [
        "plt.plot(scores_graph_red) #Graficamos los scores"
      ],
      "metadata": {
        "colab": {
          "base_uri": "https://localhost:8080/",
          "height": 447
        },
        "id": "cd_fvPGMrDH4",
        "outputId": "208d34bd-454c-4ec4-d46a-69938cf7b2f7"
      },
      "execution_count": null,
      "outputs": [
        {
          "output_type": "execute_result",
          "data": {
            "text/plain": [
              "[<matplotlib.lines.Line2D at 0x7fbdbc47cc10>]"
            ]
          },
          "metadata": {},
          "execution_count": 22
        },
        {
          "output_type": "display_data",
          "data": {
            "text/plain": [
              "<Figure size 640x480 with 1 Axes>"
            ],
            "image/png": "[encoded data removed]"
          },
          "metadata": {}
        }
      ]
    },
    {
      "cell_type": "markdown",
      "source": [
        "Para este caso, el score del vino tinto mejoró considerablemente."
      ],
      "metadata": {
        "id": "Pq5TquAtuAO5"
      }
    },
    {
      "cell_type": "markdown",
      "source": [
        "\n",
        "\n",
        "---\n",
        "\n"
      ],
      "metadata": {
        "id": "q32tVajZNoum"
      }
    },
    {
      "cell_type": "markdown",
      "source": [
        "### **Modelo SVM**\n",
        "<a name=\"svm\"></a>\n",
        "\n",
        "Las Máquinas de Vectores de Soporte (SVM) son modelos para clasificación y regresión. En el caso de la regresión, se usan para predecir valores numéricos continuos. SVM busca encontrar un hiperplano óptimo que separe los datos o se ajuste a los valores objetivo. Utiliza técnicas de optimización y transformación de espacios para lograr un buen rendimiento en la clasificación y regresión de datos. Es un modelo que encuentra un hiperplano que mejor separa los datos o se ajusta a los valores objetivo en la regresión, utilizando técnicas de optimización y transformación de espacios.\n",
        "\n"
      ],
      "metadata": {
        "id": "fmTqbaUHNuNw"
      }
    },
    {
      "cell_type": "code",
      "source": [
        "scaler_train = preprocessing.StandardScaler()\n",
        "scaler_test = preprocessing.StandardScaler()\n",
        "\n",
        "X_train_scaled_white = scaler_train.fit_transform(X_train_white)\n",
        "X_test_scaled_white = scaler_train.transform(X_test_white)\n",
        "\n",
        "X_train_scaled_red = scaler_train.fit_transform(X_train_red)\n",
        "X_test_scaled_red = scaler_train.transform(X_test_red)"
      ],
      "metadata": {
        "id": "If-4r7ZWuGzl"
      },
      "execution_count": null,
      "outputs": []
    },
    {
      "cell_type": "code",
      "source": [
        "# Entrenamos SVM con nuestro conjunto de entrenamiento.\n",
        "\n",
        "clf_white = SVC()\n",
        "clf_white.fit(X_train_scaled_white, y_train_white)\n",
        "\n",
        "y_pred_white = clf_white.predict(X_test_scaled_white)"
      ],
      "metadata": {
        "id": "yQohPqzivDt_"
      },
      "execution_count": null,
      "outputs": []
    },
    {
      "cell_type": "code",
      "source": [
        "clf_red = SVC()\n",
        "clf_red.fit(X_train_scaled_red, y_train_red)\n",
        "\n",
        "y_pred_red = clf_red.predict(X_test_scaled_red)"
      ],
      "metadata": {
        "id": "TNYEaI3GvEqv"
      },
      "execution_count": null,
      "outputs": []
    },
    {
      "cell_type": "code",
      "source": [
        "cm_white = confusion_matrix(y_test_white, y_pred_white)\n",
        "\n",
        "disp_white = ConfusionMatrixDisplay(confusion_matrix = cm_white, display_labels = ['3', '4', '5', '6', '7', '8'])\n",
        "disp_white.plot(cmap = 'Blues')"
      ],
      "metadata": {
        "colab": {
          "base_uri": "https://localhost:8080/",
          "height": 468
        },
        "id": "G9zUKSxgwSkQ",
        "outputId": "b305a124-ab76-4585-822f-77f3e79f08c7"
      },
      "execution_count": null,
      "outputs": [
        {
          "output_type": "execute_result",
          "data": {
            "text/plain": [
              "<sklearn.metrics._plot.confusion_matrix.ConfusionMatrixDisplay at 0x7fbdf6de7010>"
            ]
          },
          "metadata": {},
          "execution_count": 26
        },
        {
          "output_type": "display_data",
          "data": {
            "text/plain": [
              "<Figure size 640x480 with 2 Axes>"
            ],
            "image/png": "[encoded data removed]"
          },
          "metadata": {}
        }
      ]
    },
    {
      "cell_type": "code",
      "source": [
        "cm_red = confusion_matrix(y_test_red, y_pred_red)\n",
        "\n",
        "disp_red = ConfusionMatrixDisplay(confusion_matrix = cm_red, display_labels = ['3', '4', '5', '6', '7', '8'])\n",
        "disp_red.plot(cmap = 'Blues')"
      ],
      "metadata": {
        "colab": {
          "base_uri": "https://localhost:8080/",
          "height": 466
        },
        "id": "MfWh7FHgvJXf",
        "outputId": "2ceee0df-129b-4a9d-864b-ddc66e4ebf74"
      },
      "execution_count": null,
      "outputs": [
        {
          "output_type": "execute_result",
          "data": {
            "text/plain": [
              "<sklearn.metrics._plot.confusion_matrix.ConfusionMatrixDisplay at 0x7fbdbc1fa500>"
            ]
          },
          "metadata": {},
          "execution_count": 27
        },
        {
          "output_type": "display_data",
          "data": {
            "text/plain": [
              "<Figure size 640x480 with 2 Axes>"
            ],
            "image/png": "[encoded data removed]"
          },
          "metadata": {}
        }
      ]
    },
    {
      "cell_type": "code",
      "source": [
        "num_features = np.size(X_train_scaled_white, axis=1)\n",
        "param_grid = [\n",
        "  {'C': [1, 10, 100, 1000],\n",
        "   'gamma': [1/num_features, 1, 0.1, 0.01, 0.001, 0.0001],\n",
        "   'kernel': ['rbf']},\n",
        "]\n",
        "\n",
        "\n",
        "optimal_params_white = GridSearchCV(\n",
        "        SVC(),\n",
        "        param_grid,\n",
        "        cv=5,\n",
        "        scoring = 'accuracy',\n",
        "        verbose=0\n",
        "    )\n",
        "\n",
        "optimal_params_white.fit(X_train_scaled_white, y_train_white)\n",
        "print(optimal_params_white.best_params_)"
      ],
      "metadata": {
        "colab": {
          "base_uri": "https://localhost:8080/"
        },
        "id": "gnaSAASS9RuE",
        "outputId": "13e78010-19e4-43e3-c901-a28636152a90"
      },
      "execution_count": null,
      "outputs": [
        {
          "output_type": "stream",
          "name": "stdout",
          "text": [
            "{'C': 10, 'gamma': 1, 'kernel': 'rbf'}\n"
          ]
        }
      ]
    },
    {
      "cell_type": "code",
      "source": [
        "num_features = np.size(X_train_scaled_red, axis=1)\n",
        "param_grid = [\n",
        "  {'C': [1, 10, 100, 1000],\n",
        "   'gamma': [1/num_features, 1, 0.1, 0.01, 0.001, 0.0001],\n",
        "   'kernel': ['rbf']},\n",
        "]\n",
        "\n",
        "\n",
        "optimal_params_red = GridSearchCV(\n",
        "        SVC(),\n",
        "        param_grid,\n",
        "        cv=5,\n",
        "        scoring = 'accuracy',\n",
        "        verbose=0\n",
        "    )\n",
        "\n",
        "optimal_params_red.fit(X_train_scaled_red, y_train_red)\n",
        "print(optimal_params_red.best_params_)"
      ],
      "metadata": {
        "id": "VHORg9O69YM7",
        "colab": {
          "base_uri": "https://localhost:8080/"
        },
        "outputId": "0a0806d8-e1ed-4340-c333-5db811505122"
      },
      "execution_count": null,
      "outputs": [
        {
          "output_type": "stream",
          "name": "stdout",
          "text": [
            "{'C': 1, 'gamma': 1, 'kernel': 'rbf'}\n"
          ]
        }
      ]
    },
    {
      "cell_type": "code",
      "source": [
        "clf_optimo_white = SVC(kernel = 'rbf', C = 10, gamma = 1)\n",
        "clf_optimo_white.fit(X_train_scaled_white, y_train_white)\n",
        "\n",
        "y_pred_optimo_white = clf_optimo_white.predict(X_test_scaled_white)\n",
        "\n",
        "cm_optimo_white = confusion_matrix(y_test_white, y_pred_optimo_white)\n",
        "\n",
        "disp_optimo_white = ConfusionMatrixDisplay(confusion_matrix = cm_optimo_white, display_labels = ['3', '4', '5', '6', '7', '8'])\n",
        "disp_optimo_white.plot(cmap = 'Blues')"
      ],
      "metadata": {
        "colab": {
          "base_uri": "https://localhost:8080/",
          "height": 466
        },
        "id": "kiUGNcnD93Wb",
        "outputId": "79c2fea8-0f19-4493-81de-851ee85b99bf"
      },
      "execution_count": null,
      "outputs": [
        {
          "output_type": "execute_result",
          "data": {
            "text/plain": [
              "<sklearn.metrics._plot.confusion_matrix.ConfusionMatrixDisplay at 0x7fbdbc11beb0>"
            ]
          },
          "metadata": {},
          "execution_count": 30
        },
        {
          "output_type": "display_data",
          "data": {
            "text/plain": [
              "<Figure size 640x480 with 2 Axes>"
            ],
            "image/png": "[encoded data removed]"
          },
          "metadata": {}
        }
      ]
    },
    {
      "cell_type": "code",
      "source": [
        "clf_optimo_red = SVC(kernel = 'rbf', C = 1, gamma = 1)\n",
        "clf_optimo_red.fit(X_train_scaled_red, y_train_red)\n",
        "\n",
        "y_pred_optimo_red = clf_optimo_red.predict(X_test_scaled_red)\n",
        "\n",
        "cm_optimo_red = confusion_matrix(y_test_red, y_pred_optimo_red)\n",
        "\n",
        "disp_optimo_red = ConfusionMatrixDisplay(confusion_matrix = cm_optimo_red, display_labels = ['3', '4', '5', '6', '7', '8'])\n",
        "disp_optimo_red.plot(cmap = 'Blues')"
      ],
      "metadata": {
        "colab": {
          "base_uri": "https://localhost:8080/",
          "height": 466
        },
        "id": "8A45FOUo93Kq",
        "outputId": "b4d40429-1df5-4ea6-a651-f2cb2a93111b"
      },
      "execution_count": null,
      "outputs": [
        {
          "output_type": "execute_result",
          "data": {
            "text/plain": [
              "<sklearn.metrics._plot.confusion_matrix.ConfusionMatrixDisplay at 0x7fbdbc1fa650>"
            ]
          },
          "metadata": {},
          "execution_count": 31
        },
        {
          "output_type": "display_data",
          "data": {
            "text/plain": [
              "<Figure size 640x480 with 2 Axes>"
            ],
            "image/png": "[encoded data removed]"
          },
          "metadata": {}
        }
      ]
    },
    {
      "cell_type": "markdown",
      "source": [
        "---"
      ],
      "metadata": {
        "id": "yx26JCLMEqha"
      }
    },
    {
      "cell_type": "markdown",
      "source": [
        "### **KNN**\n",
        "<a name=\"knn\"></a>\n",
        "\n",
        "KNN (K-Nearest Neighbors) es un algoritmo utilizado tanto para clasificación como para regresión. En KNN, se asigna una etiqueta o se predice un valor basándose en los vecinos más cercanos al punto de consulta. En clasificación, se eligen los K vecinos más cercanos y se asigna la etiqueta más común. En regresión, se promedia o pondera los valores objetivo de los K vecinos más cercanos. El valor de K, que representa la cantidad de vecinos considerados, es importante para obtener resultados precisos en el modelo.\n",
        "\n",
        "En resumen, KNN es un algoritmo que utiliza los vecinos más cercanos para asignar etiquetas o predecir valores, y su rendimiento depende de elegir el valor correcto de K."
      ],
      "metadata": {
        "id": "Nl7CnwI5AzuR"
      }
    },
    {
      "cell_type": "code",
      "source": [
        "scores_white = []\n",
        "\n",
        "for i in range(1, 100):\n",
        "\n",
        "  knn_white = KNeighborsClassifier(n_neighbors = i)\n",
        "  knn_white.fit(X_train_white, y_train_white)\n",
        "  sc_white = knn_white.score(X_test_white, y_test_white)\n",
        "  scores_white.append(sc_white)\n",
        "\n",
        "# Para poder obtener los resultados y valores se imprimieron los scores, pero para fines de orden se borró"
      ],
      "metadata": {
        "id": "VDbU2JkFCvGE"
      },
      "execution_count": null,
      "outputs": []
    },
    {
      "cell_type": "code",
      "source": [
        "scores_red = []\n",
        "\n",
        "for i in range(1, 100):\n",
        "\n",
        "  knn_red = KNeighborsClassifier(n_neighbors = i)\n",
        "  knn_red.fit(X_train_red, y_train_red)\n",
        "  sc_red = knn_red.score(X_test_red, y_test_red)\n",
        "  scores_red.append(sc_red)"
      ],
      "metadata": {
        "id": "tfNGBIgUCyky"
      },
      "execution_count": null,
      "outputs": []
    },
    {
      "cell_type": "code",
      "source": [
        "plt.plot(scores_white)"
      ],
      "metadata": {
        "colab": {
          "base_uri": "https://localhost:8080/",
          "height": 447
        },
        "id": "RG9FyWNTFZ_y",
        "outputId": "7921c6b4-a9b2-45d0-d3c6-b2f6186b3544"
      },
      "execution_count": null,
      "outputs": [
        {
          "output_type": "execute_result",
          "data": {
            "text/plain": [
              "[<matplotlib.lines.Line2D at 0x7fbdbbd9a290>]"
            ]
          },
          "metadata": {},
          "execution_count": 34
        },
        {
          "output_type": "display_data",
          "data": {
            "text/plain": [
              "<Figure size 640x480 with 1 Axes>"
            ],
            "image/png": "[encoded data removed]"
          },
          "metadata": {}
        }
      ]
    },
    {
      "cell_type": "code",
      "source": [
        "plt.plot(scores_red)"
      ],
      "metadata": {
        "colab": {
          "base_uri": "https://localhost:8080/",
          "height": 447
        },
        "id": "3XMh0K_PFady",
        "outputId": "cdb42658-e26d-465b-e219-dd4760a6f319"
      },
      "execution_count": null,
      "outputs": [
        {
          "output_type": "execute_result",
          "data": {
            "text/plain": [
              "[<matplotlib.lines.Line2D at 0x7fbdbbe3c1f0>]"
            ]
          },
          "metadata": {},
          "execution_count": 35
        },
        {
          "output_type": "display_data",
          "data": {
            "text/plain": [
              "<Figure size 640x480 with 1 Axes>"
            ],
            "image/png": "[encoded data removed]"
          },
          "metadata": {}
        }
      ]
    },
    {
      "cell_type": "code",
      "source": [
        "knn_white = KNeighborsClassifier(n_neighbors = 1)\n",
        "knn_white.fit(X_train_white, y_train_white)\n",
        "accuracy_white = accuracy_score(y_test_white, y_pred_white)\n",
        "print(f'Accuracy: {accuracy_white:.2f}')"
      ],
      "metadata": {
        "colab": {
          "base_uri": "https://localhost:8080/"
        },
        "id": "6TXq0_DeFfOy",
        "outputId": "1249c63d-eb57-42c7-e91f-ec9d23e0ec3f"
      },
      "execution_count": null,
      "outputs": [
        {
          "output_type": "stream",
          "name": "stdout",
          "text": [
            "Accuracy: 0.55\n"
          ]
        }
      ]
    },
    {
      "cell_type": "code",
      "source": [
        "knn_red = KNeighborsClassifier(n_neighbors = 1)\n",
        "knn_red.fit(X_train_red, y_train_red)\n",
        "accuracy_red = accuracy_score(y_test_red, y_pred_red)\n",
        "print(f'Accuracy: {accuracy_red:.2f}')"
      ],
      "metadata": {
        "colab": {
          "base_uri": "https://localhost:8080/"
        },
        "id": "_7oIpra7Ks7d",
        "outputId": "ce4f63b0-ef91-4274-b649-26de911032b5"
      },
      "execution_count": null,
      "outputs": [
        {
          "output_type": "stream",
          "name": "stdout",
          "text": [
            "Accuracy: 0.63\n"
          ]
        }
      ]
    },
    {
      "cell_type": "markdown",
      "source": [
        "El modelo de KNN para los vinos tintos presentó un accuracy satiscatorio."
      ],
      "metadata": {
        "id": "WiKuCiWgffsA"
      }
    },
    {
      "cell_type": "markdown",
      "source": [
        "---"
      ],
      "metadata": {
        "id": "pEnWQRm0Eumu"
      }
    },
    {
      "cell_type": "markdown",
      "source": [
        "### **Resultados**\n",
        "<a name=\"resultados\"></a>\n",
        "\n",
        "Luego de implementar los distintos modelos para cada una de las bases de datos, fue posible evidenciar que el modelo de `SVM` fue el mejor para la base de vino blanco, mientras que el modelo de `árboles de regresión` y en el `KNN` fueron mejores para el vino tinto.\n",
        "\n",
        "Analizando las bases de datos, lo anterior se puede deber a distintos motivos; consideramos que estos son algunos de ellos:\n",
        "\n",
        "* Los árboles de regresión son menos sensibles a valores atípicos, los cuales podemos observar en la base de datos del vino tinto.\n",
        "* El modelo SVM utiliza regularización estructural que es un sobreajuste natural. Esto ayuda a cuando hay desequilibrio de datos, cosa que podemos observar en la base de vinos blancos.\n",
        "* El modelo de KNN puede capturar relaciones no lineales de manere más sencilla, ya que no asume ninguna forma específica para la función. Gracias a esto, puedo adaptarse mejor a los datos del vino tinto. A demás, el data set del vino tinto tiene caracteristicas que dominan las distancias.\n",
        "\n"
      ],
      "metadata": {
        "id": "d9u-ZMQUaB1z"
      }
    },
    {
      "cell_type": "markdown",
      "source": [
        "---"
      ],
      "metadata": {
        "id": "P7rRgMhyH6n3"
      }
    },
    {
      "cell_type": "markdown",
      "source": [
        "### **Referencias**\n",
        "<a name=\"ref\"></a>\n",
        "\n",
        "*  \"Larepublica.co.\" La República. Consumo de vino en Colombia registra un aumento de 78% durante los últimos años. [En línea]. Disponible en: https://www.larepublica.co/empresas/consumo-de-vino-en-colombia-registro-un-aumento-de-78-durante-los-ultimos-anos-3337502 (Accedido el 23 de mayo de 2023).\n",
        "\n",
        "*   \"Larepublica.co.\" La República. La tendencia de consumo en ese país viene a la baja, pues en 2005 la tasa de crecimiento fue de 22.28% cayó 0.90%. [En línea]. Disponible en: https://www.larepublica.co/ocio/la-tendencia-de-consumo-en-ese-pais-viene-a-la-baja-pues-en-2005-la-tasa-de-crecimiento-fue-de-22-28-cayo-0-90-3545171 (Accedido el 23 de mayo de 2023).\n",
        "\n",
        "*   \"Jones, P., Comfort, D., & Hillier, D.\" (2009). Demand for wine in Ontario: an econometric investigation. Food Policy, 34(3), 283-290. DOI: 10.1016/j.foodpol.2009.02.004.\n",
        "\n",
        "*   Árboles de regresión: Scikit-learn. (s.f.). Decision Trees. Recuperado de https://scikit-learn.org/stable/modules/tree.html\n",
        "\n",
        "* Máquinas de vectores de soporte (SVM): Scikit-learn. (s.f.). Support Vector Machines. Recuperado de https://scikit-learn.org/stable/modules/svm.html\n",
        "\n",
        "* KNN (k-Nearest Neighbors): Scikit-learn. (s.f.). Nearest Neighbors. Recuperado de https://scikit-learn.org/stable/modules/neighbors.html"
      ],
      "metadata": {
        "id": "jLvJp2HiH73q"
      }
    }
  ]
}